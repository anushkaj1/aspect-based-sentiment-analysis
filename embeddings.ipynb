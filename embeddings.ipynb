{
 "cells": [
  {
   "cell_type": "code",
   "execution_count": 3,
   "metadata": {},
   "outputs": [],
   "source": [
    "import pandas as pd\n",
    "import spacy\n",
    "import re"
   ]
  },
  {
   "cell_type": "markdown",
   "metadata": {},
   "source": [
    "The CSV datasets stored in `preprocessed_datasets` are processed further so that the data stored in CSV files is embedded."
   ]
  },
  {
   "cell_type": "markdown",
   "metadata": {},
   "source": [
    "### Tokenization for the english language datasets."
   ]
  },
  {
   "cell_type": "markdown",
   "metadata": {},
   "source": [
    "Defining file locations"
   ]
  },
  {
   "cell_type": "code",
   "execution_count": 4,
   "metadata": {},
   "outputs": [],
   "source": [
    "dircs = \"./preprocessed_datasets/sentences/\"\n",
    "dirco = \"./preprocessed_datasets/opinions/\"\n",
    "\n",
    "files = [\n",
    "    \"english-laptops\",\n",
    "    \"english-restaurants\"\n",
    "]\n",
    "\n",
    "csv = \".csv\""
   ]
  },
  {
   "cell_type": "markdown",
   "metadata": {},
   "source": [
    "Functions to perform padding and tokenization"
   ]
  },
  {
   "cell_type": "code",
   "execution_count": 5,
   "metadata": {},
   "outputs": [],
   "source": [
    "def remove_non_alpha(sentence):\n",
    "    '''Returns sentence obtained after removing all \n",
    "    non-alpha values'''\n",
    "\n",
    "    cleaned_sentence = re.sub(r'[^a-zA-Z\\s]', '', sentence)\n",
    "    return cleaned_sentence\n",
    "\n",
    "def pad_sentences(sentence, l):\n",
    "    '''Returns sentence obtained after padding given sentence to length l, \n",
    "    truncates sentences longer than l'''\n",
    "\n",
    "    words = sentence.split()\n",
    "    n_words = len(words)\n",
    "\n",
    "    if n_words > l:\n",
    "        sentence = words[0]\n",
    "        for i in range(1, l):\n",
    "            sentence += \" \" + words[i]\n",
    "    while n_words < l:\n",
    "        sentence += \" #\"\n",
    "        n_words += 1\n",
    "    return sentence\n",
    "\n",
    "def tokenize_review(review, sentence_length, review_length):\n",
    "    '''Takes all sentences in a review as a list,\n",
    "    returns a padded and tokenized review,\n",
    "    truncates sentences longer than sentence_length and reviews longer than review_length'''\n",
    "\n",
    "    nlp = spacy.load(\"en_core_web_sm\")\n",
    "    tokenized = []\n",
    "    empty_sentence = nlp(pad_sentences('#', sentence_length))\n",
    "\n",
    "    for sentence in review:\n",
    "        if len(tokenized) >= review_length:\n",
    "            break\n",
    "        sentence = nlp(pad_sentences(remove_non_alpha(sentence), sentence_length))\n",
    "        tokenized.append(sentence)\n",
    "    while len(tokenized) < review_length:\n",
    "        tokenized.append(empty_sentence)\n",
    "\n",
    "    return tokenized"
   ]
  },
  {
   "cell_type": "markdown",
   "metadata": {},
   "source": [
    "Finding review blocks in files and creating tokenized review elements"
   ]
  },
  {
   "cell_type": "code",
   "execution_count": 6,
   "metadata": {},
   "outputs": [],
   "source": [
    "def create_review_blocks(path, sentence_length, review_length):\n",
    "    data = pd.read_csv(path)\n",
    "    num_sentences = len(data[\"text\"])\n",
    "    reviews = []\n",
    "\n",
    "    prev_rid = data[\"rid\"][0]\n",
    "    review = []\n",
    "    for i in range(num_sentences):\n",
    "        if data[\"rid\"][i] != prev_rid:\n",
    "            reviews.append(tokenize_review(review, sentence_length, review_length))\n",
    "            review = [data[\"text\"][i]]\n",
    "        else:\n",
    "            review.append(data[\"text\"][i])\n",
    "        prev_rid = data[\"rid\"][i]\n",
    "    reviews.append(tokenize_review(review, sentence_length, review_length))\n",
    "\n",
    "    return reviews\n",
    "\n",
    "sentence_length = 20\n",
    "review_length = 10\n",
    "english_laptops_reviews = create_review_blocks(dircs + files[0] + csv, sentence_length, review_length)\n",
    "english_restaurants_reviews = create_review_blocks(dircs + files[1] + csv, sentence_length, review_length)"
   ]
  },
  {
   "cell_type": "markdown",
   "metadata": {},
   "source": [
    "### Creating embeddings"
   ]
  },
  {
   "cell_type": "code",
   "execution_count": 7,
   "metadata": {},
   "outputs": [],
   "source": [
    "import fasttext"
   ]
  },
  {
   "cell_type": "code",
   "execution_count": 14,
   "metadata": {},
   "outputs": [
    {
     "name": "stderr",
     "output_type": "stream",
     "text": [
      "Read 0M words\n",
      "Number of words:  612\n",
      "Number of labels: 0\n"
     ]
    },
    {
     "name": "stdout",
     "output_type": "stream",
     "text": [
      "['</s>', 'the', 'and', 'a', 'is', 'to', 'was', 'of', 'for', 'in', 'I', 'it', 'food', 'but', 'you', 'this', 'not', 'that', 'with', 'on', 'place', 'we', 'are', 'have', 'were', 'my', 'had', 'at', 'great', 'good', 'very', 'so', 'be', 'service', 'they', 'go', 'as', 'restaurant', 'all', 'like', 'there', 'or', 'would', '-', 'which', 'by', 'our', 'your', 'just', 'one', 'here', 'from', 'been', 'if', 'an', 'get', 'about', 'their', 'more', 'out', 'never', 'can', 'than', 'will', 'back', 'no', 'best', 'always', 'us', \"don't\", 'has', 'only', 'when', 'really', 'time', 'what', 'me', 'staff', 'some', \"it's\", 'pizza', 'recommend', 'make', 'other', 'worth', 'even', 'food,', 'nice', 'i', 'try', 'because', 'who', 'wine', 'delicious', 'too', 'little', 'up', 'sushi', 'got', 'eat', 'going', 'went', 'wait', '\"', 'well', 'many', 'made', 'over', 'much', 'do', 'restaurants', 'last', \"can't\", 'most', 'ordered', 'it.', 'dinner', 'dishes', 'times', 'am', 'say', 'New', 'menu', 'ever', 'any', 'good,', \"didn't\", 'order', 'atmosphere', 'food.', 'also', 'people', 'price', 'nothing', 'chicken', 'around', 'better', 'bit', 'asked', 'Indian', 'love', 'think', 'he', 'came', 'pretty', 'hot', 'two', 'every', 'it.\"', 'she', 'special', 'before', 'excellent', 'different', 'being', 'waiter', 'bad', 'want', 'though', 'way', 'highly', 'friend', 'could', 'night', 'first', 'did', 'friendly', 'friends', 'feel', 'places', 'small', 'take', \"you're\", 'sure', 'good.', 'such', 'back.', 'waitress', 'table', 'enjoy', 'fish', 'fresh', 'both', 'down', 'Thai', \"wasn't\", 'lot', 'favorite', 'tried', 'then', 'find', 'eaten', 'come', 'place.', 'prices', 'how', 'everything', 'should', 'top', 'into', 'took', 'bar', 'must', 'restaurant.', 'service.', 'thing', 'spot', 'far', 'visit', 'quite', 'drinks', \"I've\", 'perfect', 'list', 'tasty', 'definitely', 'since', 'decor', 'new', 'after', 'few', 'rice', 'NYC', 'know', 'appetizer', 'things', 'its', 'actually', 'experience', 'thought', 'ate', 'dining', 'live', 'next', 'boyfriend', 'least', 'looking', 'years', '2', 'day', 'found', 'where', 'fast', 'off', 'away', 'same', 'again', 'said', 'them', 'without', 'absolutely', 'time.', 'great.', 'taste', 'give', 'romantic', 'family', 'service,', 'restaurant,', 'Japanese', 'fun', 'late', 'served', 'expensive', 'minutes', 'meal', 'good.\"', 'see', 'pay', 'service.\"', 'dish', 'cold', 'wanted', 'trip', 'once', \"that's\", 'keep', 'still', 'big', 'another', 'experience.', \"doesn't\", 'real', 'selection', 'reasonable', 'birthday', 'amazing', 'while', 'lunch', 'ask', 'La', 'finally', 'large', 'part', 'average', 'dessert', 'food.\"', 'sauce', 'anything', 'recommended', 'great.\"', 'place,', 'especially', 'it,', 'times,', 'cheese', 'yet', 'work', '5', 'prepared', 'wife', 'here.', 'makes', 'Italian', 'half', 'manager', 'night.', 'reviews', 'huge', 'often', 'eating', 'enough', 'dinner.', 'rude', '--', 'almost', 'left', 'simply', 'spicy', 'felt', 'roll', 'quality', 'her', 'may', 'great,', 'reservation', 'prices.', 'bland', 'bill', 'lived', 'attentive', 'glass', 'husband', 'his', '3', 'cannot', 'city', 'rather', 'horrible', 'check', 'main', 'sat', 'arrived', 'someone', 'now', 'menu,', 'salad', 'wish', 'again.', 'belly', 'lobster', 'area', 'might', 'room', 'Chinese', 'warm', 'rolls', 'shrimp', 'loved', 'ambience', 'need', 'three', 'York', 'course', 'upon', 'else', 'usually', 'dine', 'table.\"', 'too.', 'several', 'probably', 'told', 'tasted', 'outside', 'sitting', 'completely', 'expect', 'sandwich', 'side', 'bagel', 'Cafe', 'although', 'serve', 'soup', 'fantastic', 'return', 'simple', 'Manhattan', 'Pizza', 'place.\"', 'believe', 'indian', 'order.', 'waiters', 'called', 'excellent.', 'salmon', 'NY', 'mind', 'write', 'through', 'paid', 'view', 'pasta', 'crust', 'fairly', 'kind', 'cool', 'four', 'money', 'looked', 'does', 'overpriced', 'tuna', 'wonderful', ',', 'beautiful', 'look', 'extremely', 'entree', 'pork', 'excellent,', 'hostess', 'nice,', 'tables', 'prompt', 'however,', 'fact', 'fried', 'die', 'style', 'bite', 'menu.', 'gets', 'sweet', 'portions', 'seen', 'japanese', 'appetizers', 'front', 'portion', 'something', \"won't\", 'all.', 'dumplings', 'Village', 'couple', 'location', 'hang', '–', 'full', 'reason', 'it!', 'able', 'walked', 'home', 'person', 'certainly', 'else.', 'seems', 'business', 'including', 'extensive', 'world', 'attentive.', 'less', 'waited', 'cozy', 'seemed', 'worst', \"I'm\", 'review', 'meat', 'pricey', \"we've\", 'totally', 'Restaurant', 'received', 'cute', '(I', 'pleasantly', 'sake', 'delicious.\"', 'group', 'wonderful.', 'stumbled', 'there.', 'myself', 'date', 'put', 'hour', 'NEVER', 'neighborhood', 'Femme', 'chef', 'right', 'cheap', 'getting', 'those', 'ok,', 'street', 'done', 'trying', \"wouldn't\", 'across', 'priced.', 'waiting', 'Casa', 'lamb', 'enjoyed', 'Sea', 'stuff', 'atmosphere,', 'anyone', 'water', 'twice', 'value', 'restaurants,', 'ago', 'problem', 'Taiwanese', 'ingredients', 'remember', 'friendly.\"', 'cooked', 'authentic', 'consider', 'unless', 'seem', '15', 'point', 'spinach', 'sense', 'wrong', 'high', 'size', 'tell', 'end', 'overall', 'gem', 'slightly', 'seafood', 'outdoor', 'seated', 'visiting', 'Sushi', 'offers', 'limited', 'intimate', 'occasion', 'decided', 'bagels', 'well.', 'thai', 'having', \"couldn't\", 'old', 'delicious.', 'yourself', 'replied', 'piece', 'Four', 'Williamsburg', 'regular', 'happy', 'house', 'delicious,', 'dim', 'coming', 'liked', 'these', 'stop', 'above', 'vegetarian', 'Saturday', 'meal.', 'York.', 'cost', 'place!', 'that,', 'better.', 'casual', 'busy', 'name', 'friendly.', 'St.', 'table,', 'decor,', 'dogs', 'bartender', 'everyone', 'garden', 'pleasant', 'used', 'previous', 'feeling', 'there,', 'sometimes', 'open', '(which', '4']\n"
     ]
    },
    {
     "name": "stderr",
     "output_type": "stream",
     "text": [
      "Progress: 100.0% words/sec/thread:  185981 lr:  0.000000 avg.loss:  2.972233 ETA:   0h 0m 0s\n"
     ]
    }
   ],
   "source": [
    "model = fasttext.train_unsupervised(\"preprocessed_datasets/sentences/english-restaurants.csv\")\n",
    "print(model.words)"
   ]
  },
  {
   "cell_type": "code",
   "execution_count": 13,
   "metadata": {},
   "outputs": [],
   "source": [
    "model.save_model(\"preprocessed_datasets/models/renglish-restaurants.bin\")\n",
    "\n",
    "word_to_embedding = {}\n",
    "embedding_to_word = {}\n",
    "word_vectors = []\n",
    "\n",
    "i = 0\n",
    "for word in model.words:\n",
    "    vector = model.get_word_vector(word)\n",
    "    word_vectors.append(vector)\n",
    "    word_to_embedding[word] = i\n",
    "    embedding_to_word[\"{i}\"] = word\n",
    "    i += 1"
   ]
  },
  {
   "cell_type": "markdown",
   "metadata": {},
   "source": [
    "## Final preprocessing and embedding"
   ]
  },
  {
   "cell_type": "code",
   "execution_count": null,
   "metadata": {},
   "outputs": [],
   "source": [
    "import torch\n",
    "import torch.nn as nn\n",
    "import torch.optim as optim"
   ]
  },
  {
   "cell_type": "code",
   "execution_count": null,
   "metadata": {},
   "outputs": [],
   "source": [
    "from torch.utils.data import Dataset\n",
    "import xml\n",
    "import xml.etree.ElementTree as ET\n",
    "from torchtext.data import get_tokenizer\n",
    "from functools import reduce\n",
    "import torchtext\n",
    "\n",
    "def parse_review(review: xml.etree.ElementTree.Element) -> list:\n",
    "            return list(map(lambda sen: (sen.find('text').text, \n",
    "                                         tuple(map(lambda op: (op.attrib[\"category\"], \n",
    "                                                               op.attrib[\"polarity\"]), \n",
    "                                                   sen.find(\"Opinions\").findall('Opinion')) # for all opinions\n",
    "                                              )),\n",
    "                            list(filter(lambda sen: sen.find(\"Opinions\"), review.find(\"sentences\").findall(\"sentence\"))))) # only sentences w/ opinion\n",
    "\n",
    "class ReviewDataset(Dataset):     \n",
    "    def __init__(self, path: str): \n",
    "        tree = ET.parse(path)\n",
    "        root = tree.getroot()\n",
    "        self.reviews = list(map(parse_review, root.findall(\"Review\")))\n",
    "        self.tokenizer = get_tokenizer(\"basic_english\")\n",
    "        self.vocab = torchtext.vocab.build_vocab_from_iterator(list(map(lambda review: reduce(lambda x, y: x.union(y),\n",
    "                                                                                         list(map(lambda sen: self.tokenizer(sen[0]), \n",
    "                                                                                                  review)), \n",
    "                                                                                         set()), \n",
    "                                                                        self.reviews)),\n",
    "                                                  min_freq=1,\n",
    "                                                  specials=[\"<unk>\", \"<pad>\"])\n",
    "        \n",
    "\n",
    "    def __len__(self):\n",
    "        return len(self.reviews)\n",
    "\n",
    "    def __getitem__(self, idx):\n",
    "        review = {'label' : [], 'ids' : [], 'aspects' : [], 'aspect_labels' : []}\n",
    "        for sentence in self.reviews[idx]:\n",
    "            # print(sentence)\n",
    "            sentiment_count = 0\n",
    "            for opinion in sentence[1]:\n",
    "                aspect, sentiment = opinion\n",
    "                if (sentiment == 'positive'):\n",
    "                    sentiment_count += 1\n",
    "                    # review['label'].append(1)\n",
    "                else:\n",
    "                     sentiment_count -= 1\n",
    "            if sentiment_count > 0:\n",
    "                review['label'].append(1)\n",
    "            else:\n",
    "                review['label'].append(0)\n",
    "            tokenized_sentence = self.tokenizer(sentence[0])\n",
    "            tokens_to_idx = []\n",
    "            for token in tokenized_sentence:\n",
    "                tokens_to_idx.append(self.vocab[token])\n",
    "            while (len(tokens_to_idx) < 78):\n",
    "                tokens_to_idx.append(self.vocab[\"<pad>\"])\n",
    "            review['ids'].append(tokens_to_idx)\n",
    "            review['aspects'].append([aspect])\n",
    "        return review\n",
    "\n",
    "english = ReviewDataset(\"./datasets/english-restaurants.xml\")\n",
    "\n",
    "\n",
    "import torchtext as text\n",
    "pretrained_vectors = text.vocab.GloVe(name='6B', dim=50)\n",
    "pretrained_embedding = pretrained_vectors.get_vecs_by_tokens(english.vocab.get_itos())"
   ]
  }
 ],
 "metadata": {
  "kernelspec": {
   "display_name": "smai",
   "language": "python",
   "name": "python3"
  },
  "language_info": {
   "codemirror_mode": {
    "name": "ipython",
    "version": 3
   },
   "file_extension": ".py",
   "mimetype": "text/x-python",
   "name": "python",
   "nbconvert_exporter": "python",
   "pygments_lexer": "ipython3",
   "version": "3.11.5"
  }
 },
 "nbformat": 4,
 "nbformat_minor": 2
}

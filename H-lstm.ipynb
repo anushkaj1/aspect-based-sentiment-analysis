{
 "cells": [
  {
   "cell_type": "markdown",
   "metadata": {},
   "source": [
    "# Using LSTMs"
   ]
  },
  {
   "cell_type": "code",
   "execution_count": 1,
   "metadata": {},
   "outputs": [],
   "source": [
    "import torch\n",
    "import torch.nn as nn\n",
    "import torch.optim as optim\n",
    "from torch.utils.data import Dataset\n",
    "import xml\n",
    "import xml.etree.ElementTree as ET\n",
    "from torchtext.data import get_tokenizer\n",
    "from functools import reduce\n",
    "import torchtext\n",
    "import torchtext as text\n",
    "from torch.utils.data import DataLoader\n",
    "import torch.nn.functional as F\n",
    "import matplotlib.pyplot as plt"
   ]
  },
  {
   "cell_type": "markdown",
   "metadata": {},
   "source": [
    "# Helper Functions\n",
    "\n",
    "- `parse_review` : parses the `.xml` file (dataset) for a given language domain pair and extracts all reviews along with the aspect and sentiment"
   ]
  },
  {
   "cell_type": "code",
   "execution_count": 2,
   "metadata": {},
   "outputs": [],
   "source": [
    "def parse_review(review: xml.etree.ElementTree.Element) -> list:\n",
    "            return list(map(lambda sen: (sen.find('text').text, \n",
    "                                         tuple(map(lambda op: (op.attrib[\"category\"], \n",
    "                                                               op.attrib[\"polarity\"]), \n",
    "                                                   sen.find(\"Opinions\").findall('Opinion')) # for all opinions\n",
    "                                              )),\n",
    "                            list(filter(lambda sen: sen.find(\"Opinions\"), review.find(\"sentences\").findall(\"sentence\"))))) # only sentences w/ opinion"
   ]
  },
  {
   "cell_type": "markdown",
   "metadata": {},
   "source": [
    "# Aspect Category Detection\n",
    "- In this task, we pass to our LSTM model the embedded sentence as input and the aspect associated with each sentence as the label"
   ]
  },
  {
   "cell_type": "markdown",
   "metadata": {},
   "source": [
    "## Data Preprocessing\n",
    "- We use our helper functions to parse the XML file, tokenise all the sentences and create vocabularies (for words and for aspects)\n",
    "- We also assemble the dataset so that it can be accessed and passed to our model to implement the desired tasks"
   ]
  },
  {
   "cell_type": "code",
   "execution_count": null,
   "metadata": {},
   "outputs": [],
   "source": [
    "# getting all reviews\n",
    "class ReviewDataset(Dataset):     \n",
    "    def __init__(self, path: str): \n",
    "        tree = ET.parse(path)\n",
    "        root = tree.getroot()\n",
    "        self.reviews = list(map(parse_review, root.findall(\"Review\")))\n",
    "        self.tokenizer = get_tokenizer(\"basic_english\")\n",
    "        self.vocab = torchtext.vocab.build_vocab_from_iterator(list(map(lambda review: reduce(lambda x, y: x.union(y),\n",
    "                                                                                         list(map(lambda sen: self.tokenizer(sen[0]), \n",
    "                                                                                                  review)), \n",
    "                                                                                         set()), \n",
    "                                                                        self.reviews)),\n",
    "                                                  min_freq=1,\n",
    "                                                  specials=[\"<unk>\", \"<pad>\"])\n",
    "        self.aspects = self.find_aspects()\n",
    "\n",
    "    def __len__(self):\n",
    "        return len(self.reviews)\n",
    "    \n",
    "    def find_aspects(self):\n",
    "        aspects = []\n",
    "        for review in self.reviews:\n",
    "            for sentence in review:\n",
    "                for opinion in sentence[1]:\n",
    "                    if opinion[0] not in aspects:\n",
    "                        aspects.append(opinion[0])\n",
    "        print(aspects)\n",
    "        return aspects\n",
    "\n",
    "    def __getitem__(self, idx):\n",
    "        '''Arrange elements for the given index of review so that we can access\n",
    "        the final label for the review (positive/negatie/neutral),\n",
    "        list of tokenized sentences for the review, \n",
    "        list of aspects for each sentence (one-hot encoded),\n",
    "        and polarity associated with each label'''\n",
    "        \n",
    "        review = {'label' : 0, 'ids' : [], 'aspects' : [], 'aspect_polarity' : []}\n",
    "        rev_sent = 0\n",
    "        for sentence in self.reviews[idx]:\n",
    "            # polarity and aspects\n",
    "            sentiment_count = 0\n",
    "            aspects = []\n",
    "            aspect_polarity = []\n",
    "            for i in range(len(self.aspects)):\n",
    "                aspects.append(0)\n",
    "                aspect_polarity.append(0)\n",
    "            for opinion in sentence[1]:\n",
    "                aspect, sentiment = opinion\n",
    "                idx = self.aspects.index(aspect)\n",
    "                aspects[idx] = 1\n",
    "                if sentiment == 'positive':\n",
    "                    sentiment_count += 1\n",
    "                    aspect_polarity[idx] = 1\n",
    "                    rev_sent += 1\n",
    "                elif sentiment == 'negative':\n",
    "                    sentiment_count -= 1\n",
    "                    aspect_polarity[idx] = -1\n",
    "                    rev_sent -= 1\n",
    "            review['aspects'].append(aspects)\n",
    "            review['aspect_polarity'].append(aspect_polarity)\n",
    "        \n",
    "            # for the combined sentence         \n",
    "            # if sentiment_count > 0:\n",
    "            #     rev_sent += 1\n",
    "            #     # review['label'].append(1)\n",
    "            # elif sentiment_count < 0:\n",
    "            #     rev_sent -= 1\n",
    "            #     review['label'].append(-1)\n",
    "            # else:\n",
    "            #     review['label'].append(0)\n",
    "\n",
    "            tokenized_sentence = self.tokenizer(sentence[0])\n",
    "            tokens_to_idx = []\n",
    "            for token in tokenized_sentence:\n",
    "                tokens_to_idx.append(self.vocab[token])\n",
    "            while (len(tokens_to_idx) < 78):\n",
    "                tokens_to_idx.append(self.vocab[\"<pad>\"])\n",
    "            review['ids'].append(tokens_to_idx)\n",
    "        if rev_sent > 0:\n",
    "            review['label'] = 1\n",
    "        elif rev_sent < 1:\n",
    "            review['label'] = -1\n",
    "        return review\n",
    "\n",
    "english = ReviewDataset(\"./datasets/english-restaurants.xml\")\n",
    "\n",
    "pretrained_vectors = text.vocab.GloVe(name='6B', dim=50)\n",
    "pretrained_embedding = pretrained_vectors.get_vecs_by_tokens(english.vocab.get_itos())"
   ]
  },
  {
   "cell_type": "code",
   "execution_count": null,
   "metadata": {},
   "outputs": [
    {
     "name": "stdout",
     "output_type": "stream",
     "text": [
      "1\n"
     ]
    }
   ],
   "source": [
    "print(english[3]['label'])"
   ]
  },
  {
   "cell_type": "code",
   "execution_count": null,
   "metadata": {},
   "outputs": [],
   "source": [
    "def create_sentences(english):\n",
    "    '''Function to get all sentences from every review as a single list\n",
    "    in order to carry out training at the sentence-level'''\n",
    "    \n",
    "    all_sentences = []\n",
    "    for i in range(len(english)):\n",
    "        for j in range(len(english[i][\"ids\"])):\n",
    "            all_sentences.append({'text': english[i][\"ids\"][j], 'aspects': english[i][\"aspects\"][j]})\n",
    "    return all_sentences\n",
    "\n",
    "all_sentences = create_sentences(english)"
   ]
  },
  {
   "cell_type": "code",
   "execution_count": null,
   "metadata": {},
   "outputs": [
    {
     "name": "stdout",
     "output_type": "stream",
     "text": [
      "[1, 0, 0, 0, 0, 0, 0, 0, 0, 0, 0, 0]\n"
     ]
    }
   ],
   "source": [
    "print(all_sentences[0][\"aspects\"])"
   ]
  },
  {
   "cell_type": "code",
   "execution_count": null,
   "metadata": {},
   "outputs": [],
   "source": [
    "max_len_sentence = 0\n",
    "for review in english.reviews:\n",
    "    for sentence in review:\n",
    "        tokenized_sentence = english.tokenizer(sentence[0])\n",
    "        curr_len = len(tokenized_sentence)\n",
    "        if (curr_len > max_len_sentence):\n",
    "            max_len_sentence = curr_len"
   ]
  },
  {
   "cell_type": "markdown",
   "metadata": {},
   "source": [
    "#### Defining hyperparameters"
   ]
  },
  {
   "cell_type": "code",
   "execution_count": null,
   "metadata": {},
   "outputs": [],
   "source": [
    "ASPECTS = english.aspects\n",
    "MAX_SENTENCE = 100\n",
    "VOCAB_SIZE = len(english.vocab)\n",
    "EMBEDDING_DIM = 50\n",
    "HIDDEN_DIM = 50\n",
    "LEARNING_RATE = 0.01\n",
    "BATCH_SIZE = 1\n",
    "EPOCHS = 10"
   ]
  },
  {
   "cell_type": "markdown",
   "metadata": {},
   "source": [
    "## LSTM model"
   ]
  },
  {
   "cell_type": "code",
   "execution_count": null,
   "metadata": {},
   "outputs": [],
   "source": [
    "class LSTMAspectExtractionModel(nn.Module):\n",
    "    def __init__(self, vocab_size, embedding_dim, hidden_dim, output_dim):\n",
    "        super().__init__()\n",
    "        self.embedding = nn.Embedding(vocab_size, embedding_dim)\n",
    "        self.embedding.weight.data = pretrained_embedding\n",
    "        self.lstm = nn.LSTM(input_size=embedding_dim, bidirectional=True, hidden_size=hidden_dim)\n",
    "        self.l = nn.Linear(2*hidden_dim, output_dim)\n",
    "        self.softmax = nn.Softmax(dim=0)\n",
    "        self.hidden_dim = hidden_dim\n",
    "        \n",
    "    def forward(self, x):\n",
    "        embedded = self.embedding(torch.tensor(x))\n",
    "        lstm_out, (hidden, _) = self.lstm(embedded)\n",
    "        # print(torch.tensor(x).shape, embedded.shape, lstm_out.shape, hidden.shape)\n",
    "        output = self.l(torch.flatten(hidden))\n",
    "        # output = self.softmax(output)\n",
    "        return output\n",
    "        \n",
    "model = LSTMAspectExtractionModel(VOCAB_SIZE, EMBEDDING_DIM, HIDDEN_DIM, len(ASPECTS))"
   ]
  },
  {
   "cell_type": "code",
   "execution_count": null,
   "metadata": {},
   "outputs": [],
   "source": [
    "data_loader = DataLoader(all_sentences, batch_size=BATCH_SIZE, shuffle=True)"
   ]
  },
  {
   "cell_type": "code",
   "execution_count": null,
   "metadata": {},
   "outputs": [],
   "source": [
    "def encode_output(outputs, threshold):\n",
    "    max_index = torch.argmax(outputs)\n",
    "    outputs = torch.where(outputs > threshold, 1, 0)\n",
    "    outputs[max_index] = 1\n",
    "    return(outputs)"
   ]
  },
  {
   "cell_type": "code",
   "execution_count": null,
   "metadata": {},
   "outputs": [
    {
     "name": "stdout",
     "output_type": "stream",
     "text": [
      "The value 1 appears 4 times in the tensor.\n"
     ]
    }
   ],
   "source": [
    "import torch\n",
    "\n",
    "# Assuming you have a 1D tensor\n",
    "tensor = torch.tensor([1, 2, 3, 1, 4, 1, 5, 1])\n",
    "\n",
    "# Specify the value you want to count\n",
    "value_to_find = 1\n",
    "\n",
    "# Use torch.eq() to create a boolean tensor and then use torch.sum() to count occurrences\n",
    "count = torch.sum(torch.eq(tensor, value_to_find)).item()\n",
    "\n",
    "print(f\"The value {value_to_find} appears {count} times in the tensor.\")\n"
   ]
  },
  {
   "cell_type": "markdown",
   "metadata": {},
   "source": [
    "## Training the data"
   ]
  },
  {
   "cell_type": "code",
   "execution_count": null,
   "metadata": {},
   "outputs": [
    {
     "name": "stdout",
     "output_type": "stream",
     "text": [
      "Epoch : 1/10 | Loss : 3813.3079\n",
      "Accuracy : 48.53629976580796%\n",
      "Epoch : 2/10 | Loss : 2880.1923\n",
      "Accuracy : 67.50585480093677%\n",
      "Epoch : 3/10 | Loss : 2334.8261\n",
      "Accuracy : 75.99531615925059%\n",
      "Epoch : 4/10 | Loss : 2182.4865\n",
      "Accuracy : 78.4543325526932%\n",
      "Epoch : 5/10 | Loss : 2124.0288\n",
      "Accuracy : 79.4496487119438%\n",
      "Epoch : 6/10 | Loss : 1948.8450\n",
      "Accuracy : 83.95784543325527%\n",
      "Epoch : 7/10 | Loss : 1877.2290\n",
      "Accuracy : 84.89461358313817%\n",
      "Epoch : 8/10 | Loss : 1945.3128\n",
      "Accuracy : 83.95784543325527%\n",
      "Epoch : 9/10 | Loss : 1957.3469\n",
      "Accuracy : 82.20140515222482%\n",
      "Epoch : 10/10 | Loss : 1871.8188\n",
      "Accuracy : 85.01170960187353%\n",
      "Training finished\n"
     ]
    }
   ],
   "source": [
    "criterion = nn.CrossEntropyLoss()\n",
    "optim = torch.optim.Adam(model.parameters(), lr=LEARNING_RATE)\n",
    "\n",
    "losses = []\n",
    "accuracies = []\n",
    "\n",
    "for epoch in range(EPOCHS):\n",
    "    epoch_loss = 0\n",
    "    epoch_correct = 0 \n",
    "    epoch_total = 0\n",
    "    \n",
    "    for i, data in enumerate(data_loader):\n",
    "\n",
    "        inputs = data[\"text\"]\n",
    "        labels = torch.tensor(data[\"aspect\"], dtype=torch.float)\n",
    "        \n",
    "        count = torch.sum(torch.eq(labels, 1)).item() # number of times 1 appears\n",
    "\n",
    "        optim.zero_grad()\n",
    "        \n",
    "        # Forward pass\n",
    "        outputs = model(inputs)\n",
    "        top_values, top_indices = torch.topk(outputs, k=count) # find the top tensors\n",
    "\n",
    "        # Create a one-hot embedding for the top *count* values\n",
    "        one_hot_embedding = torch.zeros_like(outputs)\n",
    "        # for it in top_indices:\n",
    "        #     if \n",
    "        one_hot_embedding[top_indices] = 1\n",
    "\n",
    "        if (torch.equal(one_hot_embedding, labels)):\n",
    "            epoch_correct += 1\n",
    "        epoch_total += 1\n",
    "\n",
    "        loss = criterion(outputs, labels)\n",
    "        \n",
    "        # Backward pass and optimization\n",
    "        loss.backward()\n",
    "        optim.step()\n",
    "        \n",
    "        epoch_loss += loss.item()\n",
    "\n",
    "    losses.append(epoch_loss)\n",
    "    accuracies.append(100*epoch_correct/epoch_total)\n",
    "    print(f\"Epoch : {epoch+1}/{EPOCHS} | Loss : {epoch_loss:.4f}\")\n",
    "    print(f\"Accuracy : {100*epoch_correct/epoch_total}%\")\n",
    "\n",
    "print(\"Training finished\")"
   ]
  },
  {
   "cell_type": "markdown",
   "metadata": {},
   "source": [
    "## Results obtained"
   ]
  },
  {
   "cell_type": "markdown",
   "metadata": {},
   "source": [
    "### Train data"
   ]
  },
  {
   "cell_type": "code",
   "execution_count": null,
   "metadata": {},
   "outputs": [
    {
     "data": {
      "image/png": "[encoded data removed]",
      "text/plain": [
       "<Figure size 640x480 with 1 Axes>"
      ]
     },
     "metadata": {},
     "output_type": "display_data"
    },
    {
     "data": {
      "image/png": "[encoded data removed]",
      "text/plain": [
       "<Figure size 640x480 with 1 Axes>"
      ]
     },
     "metadata": {},
     "output_type": "display_data"
    }
   ],
   "source": [
    "epochs = [(epoch + 1) for epoch in range(EPOCHS)]\n",
    "\n",
    "# Plotting epochs against loss\n",
    "plt.plot(epochs, losses, marker='o', linestyle='-')\n",
    "plt.title('Loss over Epochs')\n",
    "plt.xlabel('Epochs')\n",
    "plt.ylabel('Loss')\n",
    "plt.grid(True)  # Show grid\n",
    "plt.show()\n",
    "\n",
    "# Plotting epochs against accuracy\n",
    "plt.plot(epochs, accuracies, marker='o', linestyle='-')\n",
    "plt.title('Accuracy over Epochs')\n",
    "plt.xlabel('Epochs')\n",
    "plt.ylabel('Accuracy')\n",
    "plt.grid(True)  # Show grid\n",
    "plt.show()"
   ]
  },
  {
   "cell_type": "markdown",
   "metadata": {},
   "source": [
    "### Test data"
   ]
  },
  {
   "cell_type": "code",
   "execution_count": null,
   "metadata": {},
   "outputs": [
    {
     "name": "stdout",
     "output_type": "stream",
     "text": [
      "['RESTAURANT#GENERAL', 'SERVICE#GENERAL', 'FOOD#QUALITY', 'FOOD#STYLE_OPTIONS', 'DRINKS#STYLE_OPTIONS', 'DRINKS#PRICES', 'RESTAURANT#PRICES', 'RESTAURANT#MISCELLANEOUS', 'AMBIENCE#GENERAL', 'FOOD#PRICES', 'LOCATION#GENERAL', 'DRINKS#QUALITY']\n"
     ]
    }
   ],
   "source": [
    "english_test = ReviewDataset(\"./datasets/english-restaurants.xml\")\n",
    "\n",
    "pretrained_vectors = text.vocab.GloVe(name='6B', dim=50)\n",
    "pretrained_embedding = pretrained_vectors.get_vecs_by_tokens(english.vocab.get_itos())"
   ]
  },
  {
   "cell_type": "code",
   "execution_count": null,
   "metadata": {},
   "outputs": [
    {
     "name": "stdout",
     "output_type": "stream",
     "text": [
      "Accuracy on the test set = 71.31147540983606\n"
     ]
    }
   ],
   "source": [
    "all_sentences_test = create_sentences(english_test)\n",
    "\n",
    "# inputs = []\n",
    "# labels = []\n",
    "correct = 0\n",
    "total = 0\n",
    "for sntnc in all_sentences_test:\n",
    "    # inputs.append(all_sentences_test[i]['text'])\n",
    "    # labels.append(all_sentences_test[i][\"aspects\"])\n",
    "\n",
    "    outputs = model(sntnc['text'])\n",
    "    # print(outputs)\n",
    "    top_values, top_indices = torch.topk(outputs, k=count)\n",
    "    one_hot_embedding = torch.zeros_like(outputs)\n",
    "    one_hot_embedding[top_indices] = 1\n",
    "    # print(one_hot_embedding)\n",
    "    if (torch.equal(one_hot_embedding, torch.tensor(sntnc['aspects']))):\n",
    "        correct += 1\n",
    "    total += 1\n",
    "acc = 100 * correct/total\n",
    "print(\"Accuracy on the test set =\", acc)"
   ]
  },
  {
   "cell_type": "code",
   "execution_count": null,
   "metadata": {},
   "outputs": [],
   "source": [
    "def create_sentences_polarity(english):\n",
    "    '''Function to get all sentences from every review as a single list\n",
    "    in order to carry out training at the sentence-level'''\n",
    "    \n",
    "    all_sentences = []\n",
    "    for i in range(len(english)):\n",
    "        for j in range(len(english[i][\"ids\"])):\n",
    "            all_sentences.append({'text': english[i][\"ids\"][j], 'aspect_polarity': english[i][\"aspect_polarity\"][j]})\n",
    "    return all_sentences\n",
    "\n",
    "all_sentences = create_sentences_polarity(english)"
   ]
  },
  {
   "cell_type": "markdown",
   "metadata": {},
   "source": [
    "# Heirarchical Bi-LSTM"
   ]
  },
  {
   "cell_type": "markdown",
   "metadata": {},
   "source": [
    "## Preparing the data"
   ]
  },
  {
   "cell_type": "code",
   "execution_count": null,
   "metadata": {},
   "outputs": [],
   "source": [
    "def create_input_data(english):\n",
    "    reviews = []\n",
    "    for review in english:\n",
    "        if len(review['ids']) == 0:\n",
    "            continue\n",
    "        outputs = model(review['ids'][0])\n",
    "        outputs = torch.cat((outputs, torch.tensor(review['aspects'][0])))\n",
    "        for i in range(1, len(review['ids'])):\n",
    "            outputs = torch.cat((outputs, model(review['ids'][i])), dim=0)\n",
    "            outputs = torch.cat((outputs, torch.tensor(review['aspects'][i])))\n",
    "        # reviews['input'].append(outputs)\n",
    "        # reviews['output'].append(review['label'])\n",
    "        reviews.append({'input': outputs, 'output': review['label']})\n",
    "    # print(reviews)\n",
    "    return reviews\n",
    "\n",
    "reviews_english = create_input_data(english)"
   ]
  },
  {
   "cell_type": "code",
   "execution_count": null,
   "metadata": {},
   "outputs": [
    {
     "name": "stdout",
     "output_type": "stream",
     "text": [
      "349\n",
      "{'input': tensor([-1.3494,  1.0000,  0.0000,  0.0000,  0.0000,  0.0000,  0.0000,  0.0000,\n",
      "         0.0000,  0.0000,  0.0000,  0.0000,  0.0000, -0.9675,  0.0000,  1.0000,\n",
      "         0.0000,  0.0000,  0.0000,  0.0000,  0.0000,  0.0000,  0.0000,  0.0000,\n",
      "         0.0000,  0.0000, -1.3819,  0.0000,  1.0000,  0.0000,  0.0000,  0.0000,\n",
      "         0.0000,  0.0000,  0.0000,  0.0000,  0.0000,  0.0000,  0.0000, -1.2659,\n",
      "         0.0000,  0.0000,  1.0000,  1.0000,  0.0000,  0.0000,  0.0000,  0.0000,\n",
      "         0.0000,  0.0000,  0.0000,  0.0000, -1.3868,  0.0000,  1.0000,  0.0000,\n",
      "         0.0000,  0.0000,  0.0000,  0.0000,  0.0000,  0.0000,  0.0000,  0.0000,\n",
      "         0.0000, -0.4794,  1.0000,  0.0000,  0.0000,  0.0000,  0.0000,  0.0000,\n",
      "         0.0000,  0.0000,  0.0000,  0.0000,  0.0000,  0.0000],\n",
      "       grad_fn=<CatBackward0>), 'output': -1}\n"
     ]
    }
   ],
   "source": [
    "print(len(reviews_english))\n",
    "print(reviews_english[0])"
   ]
  },
  {
   "cell_type": "code",
   "execution_count": null,
   "metadata": {},
   "outputs": [],
   "source": [
    "data_loader = DataLoader(reviews_english, batch_size=BATCH_SIZE, shuffle=True)\n",
    "\n",
    "model = LSTMAspectExtractionModel(VOCAB_SIZE, EMBEDDING_DIM, HIDDEN_DIM, 1)\n",
    "\n",
    "criterion = nn.MSELoss()\n",
    "optim = torch.optim.Adam(model.parameters(), lr=LEARNING_RATE)\n",
    "\n",
    "losses = []\n",
    "accuracies = []\n",
    "\n",
    "for epoch in range(EPOCHS):\n",
    "    epoch_loss = 0\n",
    "    epoch_correct = 0 \n",
    "    epoch_total = 0\n",
    "    \n",
    "    for i, data in enumerate(data_loader):\n",
    "        inputs = data[\"text\"]\n",
    "        labels = torch.sum(torch.tensor(data[\"aspect_polarity\"], dtype=torch.float)).unsqueeze(0)\n",
    "\n",
    "        optim.zero_grad()\n",
    "        \n",
    "        # Forward pass\n",
    "        outputs = model(inputs)\n",
    "\n",
    "        if labels.item() * outputs.item() > 0:\n",
    "            epoch_correct += 1\n",
    "        elif labels.item() == outputs.item():\n",
    "            epoch_correct += 1\n",
    "        epoch_total += 1\n",
    "\n",
    "        loss = criterion(outputs, labels)\n",
    "        \n",
    "        # Backward pass and optimization\n",
    "        loss.backward()\n",
    "        optim.step()\n",
    "        \n",
    "        epoch_loss += loss.item()\n",
    "\n",
    "    losses.append(epoch_loss)\n",
    "    accuracies.append(100*epoch_correct/epoch_total)\n",
    "    print(f\"Epoch : {epoch+1}/{EPOCHS} | Loss : {epoch_loss:.4f}\")\n",
    "    print(f\"Accuracy : {100*epoch_correct/epoch_total}%\")\n",
    "\n",
    "print(\"Training finished\")"
   ]
  },
  {
   "cell_type": "markdown",
   "metadata": {},
   "source": [
    "### Testing"
   ]
  },
  {
   "cell_type": "code",
   "execution_count": null,
   "metadata": {},
   "outputs": [],
   "source": [
    "reviews_english_test = create_input_data(english_test)\n",
    "\n",
    "correct = 0\n",
    "total = 0\n",
    "\n",
    "for rev in reviews_english_test:\n",
    "    outputs = model(reviews_english_test[\"text\"])\n",
    "    labels = torch.sum(torch.tensor(reviews_english_test[\"aspect_polarity\"], dtype=torch.float)).unsqueeze(0)\n",
    "\n",
    "    if labels.item() * outputs.item() > 0:\n",
    "        correct += 1\n",
    "    elif labels.item() == outputs.item():\n",
    "        correct += 1\n",
    "    total += 1\n",
    "    \n",
    "acc = 100 * correct/total\n",
    "print(\"Accuracy on the test set =\", acc)"
   ]
  }
 ],
 "metadata": {
  "kernelspec": {
   "display_name": "Python 3 (ipykernel)",
   "language": "python",
   "name": "python3"
  },
  "language_info": {
   "codemirror_mode": {
    "name": "ipython",
    "version": 3
   },
   "file_extension": ".py",
   "mimetype": "text/x-python",
   "name": "python",
   "nbconvert_exporter": "python",
   "pygments_lexer": "ipython3",
   "version": "3.11.5"
  }
 },
 "nbformat": 4,
 "nbformat_minor": 4
}
